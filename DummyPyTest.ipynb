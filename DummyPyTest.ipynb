{
 "cells": [
  {
   "cell_type": "markdown",
   "metadata": {
    "collapsed": false
   },
   "source": [
    "The following code needs to be run once to save your credentials to a local cache. You'll need to replace the path to site-packages appropriately...\n",
    "\n",
    "`run /Users/frank/.virtualenvs/EarthEngine/lib/python2.7/site-packages/ee/authenticate.py`\n",
    "\n",
    "This was the contents of the old way of authenticating (It still seems to work as of 27 March 2015):\n",
    "\n",
    "```\n",
    "#MY_SERVICE_ACCOUNT = '544951530331@developer.gserviceaccount.com'  # replace with your service account\n",
    "#MY_PRIVATE_KEY_FILE = '/Users/frank/Documents/Src/Git Stuff/EarthEngine/EarthEngineTest-privatekey.p12'       # replace with your private key file path\n",
    "#ee.Initialize(ee.ServiceAccountCredentials(MY_SERVICE_ACCOUNT, MY_PRIVATE_KEY_FILE))\n",
    "```\n"
   ]
  },
  {
   "cell_type": "code",
   "execution_count": 1,
   "metadata": {
    "collapsed": false
   },
   "outputs": [],
   "source": [
    "import ee\n",
    "import time\n",
    "ee.Initialize()\n",
    "drive_folder = 'Google EE Exports'"
   ]
  },
  {
   "cell_type": "code",
   "execution_count": 2,
   "metadata": {
    "collapsed": false
   },
   "outputs": [],
   "source": [
    "# ROI for clipping\n",
    "west = -79.0\n",
    "east = -73.5\n",
    "south = 42.0\n",
    "north = 44.0\n",
    "upstateNyROI = ee.Feature.Rectangle(west, south, east, north)\n",
    "upstateNyROIString = '[[%f,%f], [%f,%f], [%f,%f], [%f,%f]]'%(west,north,east,north,east,south,west,south)\n",
    "\n",
    "start_date = '2002-01-01'\n",
    "end_date = '2014-12-31'\n",
    "\n",
    "# MODIS LST Images\n",
    "\n",
    "# Terra\n",
    "# MODIS/MoD11A1\n",
    "\n",
    "terra_day_collection = ee.ImageCollection('MODIS/MOD11A1').filterDate(start_date, end_date)\\\n",
    "                   .filterBounds(upstateNyROI).select([0],['Temperature'])\n",
    "terra_night_collection = ee.ImageCollection('MODIS/MOD11A1').filterDate(start_date, end_date)\\\n",
    "                     .filterBounds(upstateNyROI).select([4],['Temperature'])\n",
    "terra_collection = ee.ImageCollection(terra_day_collection.merge(terra_night_collection))\n",
    "\n",
    "# Aqua\n",
    "# MODIS/MYD11A1\n",
    "\n",
    "aqua_day_collection = ee.ImageCollection('MODIS/MYD11A1').filterDate(start_date, end_date)\\\n",
    "                   .filterBounds(upstateNyROI).select([0],['Temperature'])\n",
    "aqua_night_collection = ee.ImageCollection('MODIS/MYD11A1').filterDate(start_date, end_date)\\\n",
    "                     .filterBounds(upstateNyROI).select([4],['Temperature'])\n",
    "aqua_collection = ee.ImageCollection(aqua_day_collection.merge(aqua_night_collection))\n",
    "\n",
    "# All of them\n",
    "collection = ee.ImageCollection(terra_collection.merge(aqua_collection))\n",
    "\n",
    "\n",
    "quantiles = [i for i in range(0,101,2)]\n",
    "#print(quantiles)\n",
    "\n",
    "percentiles = collection.reduce(ee.Reducer.percentile(quantiles)).toFloat().multiply(0.02)\n",
    "\n",
    "mean = collection.mean().toFloat().multiply(0.02)\n",
    "\n",
    "\n",
    "#median = collection.median()"
   ]
  },
  {
   "cell_type": "code",
   "execution_count": 3,
   "metadata": {
    "collapsed": false
   },
   "outputs": [
    {
     "name": "stdout",
     "output_type": "stream",
     "text": [
      "Running...\n",
      "Running...\n",
      "Running...\n",
      "Running...\n",
      "Running...\n",
      "Running...\n",
      "Running...\n",
      "Running...\n",
      "Running...\n",
      "Running...\n",
      "Running...\n",
      "Running...\n",
      "Running...\n",
      "Running...\n",
      "Running...\n",
      "Running...\n",
      "Running...\n",
      "Running...\n",
      "Running...\n",
      "Running...\n",
      "Running...\n",
      "Running...\n",
      "Running...\n",
      "Running...\n",
      "Running...\n",
      "Running...\n",
      "Running...\n",
      "Running...\n",
      "Running...\n",
      "Running...\n",
      "Running...\n",
      "Running...\n",
      "Running...\n",
      "Running...\n",
      "Running...\n",
      "Running...\n",
      "Running...\n",
      "Running...\n",
      "Running...\n",
      "Running...\n",
      "Running...\n",
      "Running...\n",
      "Running...\n",
      "Running...\n",
      "Running...\n",
      "Running...\n",
      "Running...\n",
      "Running...\n",
      "Done. {u'task_type': u'EXPORT_IMAGE', u'description': u'AquaTerraDayNightPercentiles_UpstateNY_2002_2014', u'output_url': [u'https://drive.google.com/#folders/0B2oo-_fzvmOKRHN2NkJhTnJ6VDg'], u'update_timestamp_ms': 1427673160583, u'creation_timestamp_ms': 1427670214343, u'state': u'COMPLETED', u'start_timestamp_ms': 1427671730452, u'id': u'ZCNYXMOCIRELBPWKUZYDOJDA'}\n",
      "Running...\n",
      "Running...\n",
      "Running...\n",
      "Running...\n",
      "Running...\n",
      "Running...\n",
      "Running...\n",
      "Running...\n",
      "Running...\n",
      "Running...\n",
      "Running...\n",
      "Running...\n",
      "Done. {u'task_type': u'EXPORT_IMAGE', u'description': u'AquaTerraDayNightMean_UpstateNY_2002_2014', u'output_url': [u'https://drive.google.com/#folders/0B2oo-_fzvmOKRHN2NkJhTnJ6VDg'], u'update_timestamp_ms': 1427673954290, u'creation_timestamp_ms': 1427673209366, u'state': u'COMPLETED', u'start_timestamp_ms': 1427673209569, u'id': u'GQN4DBEPMMYJF7H5ZLCGJF6F'}\n"
     ]
    }
   ],
   "source": [
    "task = ee.batch.Export.image(percentiles,'AquaTerraDayNightPercentiles_UpstateNY_2002_2014',\n",
    "                             {'region':upstateNyROIString,\n",
    "                              'scale':926,\n",
    "                              'driveFolder':drive_folder})\n",
    "task.start()\n",
    "time.sleep(10)\n",
    "while task.status()['state'] == 'RUNNING':\n",
    "  print 'Running...'\n",
    "  # Perhaps task.cancel() at some point.\n",
    "  time.sleep(60)\n",
    "print 'Done.', task.status()\n",
    "\n",
    "task = ee.batch.Export.image(mean,'AquaTerraDayNightMean_UpstateNY_2002_2014',\n",
    "                             {'region':upstateNyROIString,\n",
    "                              'scale':926,\n",
    "                              'driveFolder':drive_folder})\n",
    "task.start()\n",
    "time.sleep(10)\n",
    "while task.status()['state'] == 'RUNNING':\n",
    "  print 'Running...'\n",
    "  # Perhaps task.cancel() at some point.\n",
    "  time.sleep(60)\n",
    "print 'Done.', task.status()\n"
   ]
  },
  {
   "cell_type": "code",
   "execution_count": 4,
   "metadata": {
    "collapsed": false
   },
   "outputs": [
    {
     "data": {
      "text/plain": [
       "{u'creation_timestamp_ms': 1427628863617,\n",
       " u'description': u'DayNightPercentiles_UpstateNY',\n",
       " u'id': u'NYV2DXDVL5TID5T5OMNK4ZTB',\n",
       " u'output_url': [u'https://drive.google.com/#folders/0B2oo-_fzvmOKRHN2NkJhTnJ6VDg'],\n",
       " u'start_timestamp_ms': 1427628864942,\n",
       " u'state': u'COMPLETED',\n",
       " u'task_type': u'EXPORT_IMAGE',\n",
       " u'update_timestamp_ms': 1427629137135}"
      ]
     },
     "execution_count": 4,
     "metadata": {},
     "output_type": "execute_result"
    }
   ],
   "source": [
    "task.status()"
   ]
  },
  {
   "cell_type": "code",
   "execution_count": 5,
   "metadata": {
    "collapsed": true
   },
   "outputs": [],
   "source": [
    "task.cancel()"
   ]
  },
  {
   "cell_type": "code",
   "execution_count": null,
   "metadata": {
    "collapsed": true
   },
   "outputs": [],
   "source": []
  }
 ],
 "metadata": {
  "kernelspec": {
   "display_name": "Python 2",
   "language": "python",
   "name": "python2"
  },
  "language_info": {
   "codemirror_mode": {
    "name": "ipython",
    "version": 2
   },
   "file_extension": ".py",
   "mimetype": "text/x-python",
   "name": "python",
   "nbconvert_exporter": "python",
   "pygments_lexer": "ipython2",
   "version": "2.7.6"
  }
 },
 "nbformat": 4,
 "nbformat_minor": 0
}
